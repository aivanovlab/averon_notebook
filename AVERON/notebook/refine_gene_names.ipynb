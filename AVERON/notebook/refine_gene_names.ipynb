{
 "cells": [
  {
   "cell_type": "code",
   "execution_count": 77,
   "id": "87faaaa7-6b5b-4c41-807b-7f98ec49a9f6",
   "metadata": {},
   "outputs": [],
   "source": [
    "import pandas as pd\n",
    "import os"
   ]
  },
  {
   "cell_type": "code",
   "execution_count": 78,
   "id": "f3b5d064-6cb4-4fab-9878-8968609de1ff",
   "metadata": {},
   "outputs": [],
   "source": [
    "parent_folder = os.path.dirname(os.getcwd())+\"\\\\\"\n",
    "#Set output folder:\n",
    "\n",
    "#Folder with all input files:\n",
    "data_folder = parent_folder+\"input\"+\"\\\\\"\n",
    "\n",
    "#HGNC gene annotations from https://www.genenames.org/\n",
    "hgnc_f = data_folder + \"hgnc5.txt\"\n",
    "\n",
    "#Mutation data from https://gdc.cancer.gov/about-data/publications/pancanatlas\n",
    "mut_f = data_folder +\"mc3.v0.2.8.PUBLIC.maf\" \n",
    "\n",
    "#mRNA expression data from https://gdc.cancer.gov/about-data/publications/pancanatlas\n",
    "exp_f = data_folder + \"EBPlusPlusAdjustPANCAN_IlluminaHiSeq_RNASeqV2.geneExp.tsv\" \n",
    "    \n",
    "#CNV data from https://gdc.cancer.gov/about-data/publications/pancan-aneuploidy\n",
    "cnv_f = data_folder + \"all_thresholded.by_genes_whitelisted.tsv\""
   ]
  },
  {
   "cell_type": "code",
   "execution_count": 84,
   "id": "034634c4-5ae5-41c2-8469-6581c8ea70f3",
   "metadata": {},
   "outputs": [],
   "source": [
    "def gene_lookup(exp_f,hgnc_f):\n",
    "    #Make a table with gene symbol and gene ID based on the mRNA exp file\n",
    "    out = []\n",
    "    n = 0\n",
    "    with open(exp_f) as f:\n",
    "        for line in f:\n",
    "            if n > 0:\n",
    "                line = line.strip()\n",
    "                line = line.replace('\"','').split('\\t')\n",
    "                out.append([line[0].split('|')[0].strip(),line[0].split('|')[1].strip()])\n",
    "            n = 1\n",
    "    \n",
    "    lookup_df = pd.DataFrame(out,columns = ['old_symbol','gene_id'])\n",
    "\n",
    "    #Get hgnc symbols\n",
    "    hgnc_df = pd.read_csv(hgnc_f,sep='\\t',index_col = 0)\n",
    "    hgnc_df['NCBI Gene ID']= [str(x) for x in hgnc_df['NCBI Gene ID'].values]\n",
    "    #Add current symbols\n",
    "    out = []\n",
    "    for i in lookup_df.index:\n",
    "        gene_id = str(lookup_df.loc[i]['gene_id'])\n",
    "        hgnc_symbol = hgnc_df.loc[hgnc_df['NCBI Gene ID']==gene_id]['Approved symbol'].values\n",
    "        if len(hgnc_symbol)>0:\n",
    "            out.append(hgnc_symbol[0])\n",
    "        else:\n",
    "            out.append('')  \n",
    "    lookup_df['current_symbol']=out\n",
    "    print(\"DONE!\")\n",
    "    return(lookup_df)"
   ]
  },
  {
   "cell_type": "code",
   "execution_count": 85,
   "id": "43971add-0934-4c22-a6d3-0bafefd9b14e",
   "metadata": {},
   "outputs": [],
   "source": [
    "def refine_mRNA_gene_names(exp_f,lookup_df,outfile):\n",
    "    exp_f2 = open(outfile, \"w\")#we will save the refined file here\n",
    "    n=0\n",
    "    with open(exp_f) as f:\n",
    "        for line in f:\n",
    "            line = line.strip()\n",
    "            if line != '':\n",
    "                line = line.replace('\"','').split('\\t')\n",
    "            if n > 0 and line != '':\n",
    "                gene_id = line[0].split(\"|\")[1].strip()\n",
    "                symbol = lookup_df.loc[lookup_df['gene_id']==str(gene_id)]['current_symbol'].values\n",
    "                if len(symbol)==0:\n",
    "                    symbol = ''\n",
    "                else:\n",
    "                    symbol = symbol[0]\n",
    "                if symbol == '':\n",
    "                    symbol = lookup_df.loc[lookup_df['gene_id']==str(gene_id)]['old_symbol'].values[0]\n",
    "                    if symbol == '?':\n",
    "                        symbol = str(gene_id)\n",
    "                line[0] = symbol\n",
    "            line = [x.strip() for x in line]\n",
    "            line = ('\\t').join(line)+\"\\n\"\n",
    "            exp_f2.write(line)\n",
    "            n=1\n",
    "    exp_f2.close()\n",
    "    print(\"Refined file saved to: \",outfile)"
   ]
  },
  {
   "cell_type": "code",
   "execution_count": 86,
   "id": "4aa59ee3-c9ce-4de2-a27b-a34dfa15508b",
   "metadata": {},
   "outputs": [],
   "source": [
    "def refine_CNV_names(cnv_f,lookup_df,outfile):\n",
    "    #update gene names in CNV file\n",
    "    n = 0\n",
    "    cnv_f2 = open(outfile,'w')\n",
    "    with open(cnv_f) as f:\n",
    "        for line in f:\n",
    "            if n > 0:\n",
    "                line = line.split('\\t')\n",
    "                if line[0] in lookup_df['old_symbol'].values:\n",
    "                    line[0] = lookup_df.loc[lookup_df['old_symbol']==line[0]]['current_symbol'].values[0]\n",
    "                line = [x.strip().replace(\"\\n\", \"\") for x in line]\n",
    "                line = ('\\t').join(line)+'\\n'\n",
    "            cnv_f2.write(line)\n",
    "            n=1\n",
    "    cnv_f2.close()   \n",
    "    print(\"Refined file saved to: \",outfile)"
   ]
  },
  {
   "cell_type": "code",
   "execution_count": 76,
   "id": "1afca0a0-6f5d-466d-8da1-7801904929a1",
   "metadata": {},
   "outputs": [],
   "source": [
    "def refine_MUT_names(mut_f,lookup_df,outfile):\n",
    "    #update gene names in CNV file\n",
    "    n = 0\n",
    "    mut_f2 = open(outfile,'w')\n",
    "\n",
    "    with open(mut_f) as f:\n",
    "        for line in f:\n",
    "            line = line.split('\\t')\n",
    "            line = [x.replace(\"\\n\", \"\").replace('\"', '').strip() for x in line]\n",
    "            if line[0] in lookup_df['old_symbol'].values:\n",
    "                line[0] = lookup_df.loc[lookup_df['old_symbol']==line[0]]['current_symbol'].values[0]\n",
    "            line = ('\\t').join([line[0],line[8],line[9],line[15],line[36]])+'\\n'\n",
    "            mut_f2.write(line)\n",
    "            n=1\n",
    "    mut_f2.close()   \n",
    "    print(\"Refined file saved to: \",outfile)"
   ]
  },
  {
   "cell_type": "code",
   "execution_count": 87,
   "id": "edbff864-0401-4132-b3c0-abbb38e7ef47",
   "metadata": {},
   "outputs": [
    {
     "name": "stderr",
     "output_type": "stream",
     "text": [
      "<ipython-input-84-acca1aff27ac>:16: DtypeWarning: Columns (40) have mixed types. Specify dtype option on import or set low_memory=False.\n",
      "  hgnc_df = pd.read_csv(hgnc_f,sep='\\t',index_col = 0)\n"
     ]
    },
    {
     "name": "stdout",
     "output_type": "stream",
     "text": [
      "DONE!\n"
     ]
    }
   ],
   "source": [
    "#Compare gene symbols in the mRNA expression file with current HGNC gene symbols\n",
    "#and create a look-up table to update gene names\n",
    "lookup_df = gene_lookup(exp_f,hgnc_f)"
   ]
  },
  {
   "cell_type": "code",
   "execution_count": 88,
   "id": "9592f9ae-6ea2-4ac2-a5ce-b8453841c6e5",
   "metadata": {},
   "outputs": [
    {
     "name": "stdout",
     "output_type": "stream",
     "text": [
      "Refined file saved to:  c:\\Users\\aaivano\\OneDrive - Emory University\\AVERON\\AVERON_Share\\input\\EBPlusPlusAdjustPANCAN_IlluminaHiSeq_RNASeqV2.geneExp.refined.tsv\n"
     ]
    }
   ],
   "source": [
    "#Check and rename genes in the mRNA expression file:\n",
    "outfile = ('.').join(exp_f.split('.')[:-1]+['refined.tsv'])#we will save the refined file here\n",
    "refine_mRNA_gene_names(exp_f,lookup_df,outfile)"
   ]
  },
  {
   "cell_type": "code",
   "execution_count": 89,
   "id": "c71236e2-8348-47ab-bd5b-7b009dc37556",
   "metadata": {},
   "outputs": [
    {
     "name": "stdout",
     "output_type": "stream",
     "text": [
      "Refined file saved to:  c:\\Users\\aaivano\\OneDrive - Emory University\\AVERON\\AVERON_Share\\input\\all_thresholded.by_genes_whitelisted..refined.tsv\n"
     ]
    }
   ],
   "source": [
    "#Check and rename genes in the CNV file:\n",
    "outfile = ('.').join(cnv_f.split(\".\")[:-1]+['.refined.tsv'])\n",
    "refine_CNV_names(cnv_f,lookup_df,outfile)"
   ]
  },
  {
   "cell_type": "code",
   "execution_count": null,
   "id": "1a3bc6c3-f7a3-4067-bcf3-21c7e6440ee4",
   "metadata": {},
   "outputs": [],
   "source": []
  }
 ],
 "metadata": {
  "kernelspec": {
   "display_name": "Python 3 (ipykernel)",
   "language": "python",
   "name": "python3"
  },
  "language_info": {
   "codemirror_mode": {
    "name": "ipython",
    "version": 3
   },
   "file_extension": ".py",
   "mimetype": "text/x-python",
   "name": "python",
   "nbconvert_exporter": "python",
   "pygments_lexer": "ipython3",
   "version": "3.7.13"
  }
 },
 "nbformat": 4,
 "nbformat_minor": 5
}
